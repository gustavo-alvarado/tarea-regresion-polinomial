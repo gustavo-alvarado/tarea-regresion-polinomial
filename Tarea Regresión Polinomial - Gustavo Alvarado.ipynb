{
 "cells": [
  {
   "cell_type": "markdown",
   "metadata": {},
   "source": [
    "# Tarea 2 - Regresion Polinomial & Feature engineering\n",
    "\n",
    "Gustavo Alvarado. Carnet # 20063401\n",
    "\n",
    "## Parte 1 - Modelo exponencial de covid-19 usando feature-eng\n",
    "\n",
    "Usando el ejemplo de covid-19 en el notebook de feature-eng (https://colab.research.google.com/drive/1sJV2HG7tQgCGKES3-dIclzHQJ9qAWB3b?usp=sharing) crear un modelo de covid-19 para Guatemala.\n",
    "\n",
    "* Convertir la fecha a un entero \"número de día\", por ejemplo si se usan datos desde el 22 de abril, este es el día 0, el 23 es el día 1.\n",
    "* Aplicar regresión lineal sobre la variable \"Confirmed\" transformada.\n",
    "* Una vez entrenado el modelo usarlo para aproximar la cantidad de casos confirmados para el 6 de Junio. Se debe reportar la cantidad de casos, no la cantidad transformada obtenida."
   ]
  },
  {
   "cell_type": "code",
   "execution_count": 47,
   "metadata": {},
   "outputs": [],
   "source": [
    "import numpy as np\n",
    "import matplotlib.pyplot as plt\n",
    "import pandas as pd\n",
    "import tensorflow as tf\n",
    "from datetime import datetime\n",
    "from sklearn.preprocessing import PolynomialFeatures\n",
    "\n",
    "pd.options.mode.chained_assignment = None"
   ]
  },
  {
   "cell_type": "code",
   "execution_count": 48,
   "metadata": {},
   "outputs": [
    {
     "name": "stdout",
     "output_type": "stream",
     "text": [
      "Enabled compatitility to tf1.x\n"
     ]
    }
   ],
   "source": [
    "if tf.__version__.startswith(\"2.\"):\n",
    "    import tensorflow.compat.v1 as tf\n",
    "    tf.compat.v1.disable_v2_behavior()\n",
    "    tf.compat.v1.disable_eager_execution()\n",
    "    print(\"Enabled compatitility to tf1.x\")"
   ]
  },
  {
   "cell_type": "code",
   "execution_count": 5,
   "metadata": {},
   "outputs": [
    {
     "data": {
      "text/html": [
       "<div>\n",
       "<style scoped>\n",
       "    .dataframe tbody tr th:only-of-type {\n",
       "        vertical-align: middle;\n",
       "    }\n",
       "\n",
       "    .dataframe tbody tr th {\n",
       "        vertical-align: top;\n",
       "    }\n",
       "\n",
       "    .dataframe thead th {\n",
       "        text-align: right;\n",
       "    }\n",
       "</style>\n",
       "<table border=\"1\" class=\"dataframe\">\n",
       "  <thead>\n",
       "    <tr style=\"text-align: right;\">\n",
       "      <th></th>\n",
       "      <th>Province/State</th>\n",
       "      <th>Country/Region</th>\n",
       "      <th>Lat</th>\n",
       "      <th>Long</th>\n",
       "      <th>Date</th>\n",
       "      <th>Confirmed</th>\n",
       "      <th>Deaths</th>\n",
       "      <th>Recovered</th>\n",
       "    </tr>\n",
       "  </thead>\n",
       "  <tbody>\n",
       "    <tr>\n",
       "      <td>0</td>\n",
       "      <td>NaN</td>\n",
       "      <td>Afghanistan</td>\n",
       "      <td>33.0000</td>\n",
       "      <td>65.0000</td>\n",
       "      <td>2020-01-22</td>\n",
       "      <td>0</td>\n",
       "      <td>0</td>\n",
       "      <td>0</td>\n",
       "    </tr>\n",
       "    <tr>\n",
       "      <td>1</td>\n",
       "      <td>NaN</td>\n",
       "      <td>Albania</td>\n",
       "      <td>41.1533</td>\n",
       "      <td>20.1683</td>\n",
       "      <td>2020-01-22</td>\n",
       "      <td>0</td>\n",
       "      <td>0</td>\n",
       "      <td>0</td>\n",
       "    </tr>\n",
       "    <tr>\n",
       "      <td>2</td>\n",
       "      <td>NaN</td>\n",
       "      <td>Algeria</td>\n",
       "      <td>28.0339</td>\n",
       "      <td>1.6596</td>\n",
       "      <td>2020-01-22</td>\n",
       "      <td>0</td>\n",
       "      <td>0</td>\n",
       "      <td>0</td>\n",
       "    </tr>\n",
       "    <tr>\n",
       "      <td>3</td>\n",
       "      <td>NaN</td>\n",
       "      <td>Andorra</td>\n",
       "      <td>42.5063</td>\n",
       "      <td>1.5218</td>\n",
       "      <td>2020-01-22</td>\n",
       "      <td>0</td>\n",
       "      <td>0</td>\n",
       "      <td>0</td>\n",
       "    </tr>\n",
       "    <tr>\n",
       "      <td>4</td>\n",
       "      <td>NaN</td>\n",
       "      <td>Angola</td>\n",
       "      <td>-11.2027</td>\n",
       "      <td>17.8739</td>\n",
       "      <td>2020-01-22</td>\n",
       "      <td>0</td>\n",
       "      <td>0</td>\n",
       "      <td>0</td>\n",
       "    </tr>\n",
       "  </tbody>\n",
       "</table>\n",
       "</div>"
      ],
      "text/plain": [
       "  Province/State Country/Region      Lat     Long       Date  Confirmed  \\\n",
       "0            NaN    Afghanistan  33.0000  65.0000 2020-01-22          0   \n",
       "1            NaN        Albania  41.1533  20.1683 2020-01-22          0   \n",
       "2            NaN        Algeria  28.0339   1.6596 2020-01-22          0   \n",
       "3            NaN        Andorra  42.5063   1.5218 2020-01-22          0   \n",
       "4            NaN         Angola -11.2027  17.8739 2020-01-22          0   \n",
       "\n",
       "   Deaths  Recovered  \n",
       "0       0          0  \n",
       "1       0          0  \n",
       "2       0          0  \n",
       "3       0          0  \n",
       "4       0          0  "
      ]
     },
     "execution_count": 5,
     "metadata": {},
     "output_type": "execute_result"
    }
   ],
   "source": [
    "covid19_data = pd.read_csv('covid_19_clean_complete.csv')\n",
    "covid19_data[\"Date\"] = pd.to_datetime(covid19_data[\"Date\"],infer_datetime_format = True)\n",
    "covid19_data.head()"
   ]
  },
  {
   "cell_type": "code",
   "execution_count": 6,
   "metadata": {},
   "outputs": [
    {
     "data": {
      "text/plain": [
       "Province/State            object\n",
       "Country/Region            object\n",
       "Lat                      float64\n",
       "Long                     float64\n",
       "Date              datetime64[ns]\n",
       "Confirmed                  int64\n",
       "Deaths                     int64\n",
       "Recovered                  int64\n",
       "dtype: object"
      ]
     },
     "execution_count": 6,
     "metadata": {},
     "output_type": "execute_result"
    }
   ],
   "source": [
    "covid19_data.dtypes"
   ]
  },
  {
   "cell_type": "code",
   "execution_count": 8,
   "metadata": {},
   "outputs": [
    {
     "data": {
      "text/plain": [
       "<matplotlib.collections.PathCollection at 0x1e356be6ac8>"
      ]
     },
     "execution_count": 8,
     "metadata": {},
     "output_type": "execute_result"
    },
    {
     "data": {
      "image/png": "[encoded data removed]",
      "text/plain": [
       "<Figure size 432x288 with 1 Axes>"
      ]
     },
     "metadata": {
      "needs_background": "light"
     },
     "output_type": "display_data"
    }
   ],
   "source": [
    "GT_confirmed = covid19_data[(covid19_data[\"Country/Region\"] == 'Guatemala') & (covid19_data[\"Confirmed\"] > 0)].copy()\n",
    "plt.scatter(GT_confirmed[\"Date\"], GT_confirmed[\"Confirmed\"])"
   ]
  },
  {
   "cell_type": "code",
   "execution_count": 9,
   "metadata": {},
   "outputs": [
    {
     "data": {
      "text/plain": [
       "<matplotlib.collections.PathCollection at 0x1e356b97a08>"
      ]
     },
     "execution_count": 9,
     "metadata": {},
     "output_type": "execute_result"
    },
    {
     "data": {
      "image/png": "[encoded data removed]",
      "text/plain": [
       "<Figure size 432x288 with 1 Axes>"
      ]
     },
     "metadata": {
      "needs_background": "light"
     },
     "output_type": "display_data"
    }
   ],
   "source": [
    "GT_confirmed[\"ln(confirmed)\"] = np.log(GT_confirmed[\"Confirmed\"])\n",
    "plt.scatter(GT_confirmed[\"Date\"], GT_confirmed[\"ln(confirmed)\"])"
   ]
  },
  {
   "cell_type": "code",
   "execution_count": 10,
   "metadata": {},
   "outputs": [
    {
     "data": {
      "text/plain": [
       "<matplotlib.collections.PathCollection at 0x1e356ccdb88>"
      ]
     },
     "execution_count": 10,
     "metadata": {},
     "output_type": "execute_result"
    },
    {
     "data": {
      "image/png": "[encoded data removed]",
      "text/plain": [
       "<Figure size 432x288 with 1 Axes>"
      ]
     },
     "metadata": {
      "needs_background": "light"
     },
     "output_type": "display_data"
    }
   ],
   "source": [
    "GT_confirmed_post24 = GT_confirmed[GT_confirmed.Date >= '2020-03-22']\n",
    "GT_confirmed_post24[\"Day\"] = np.arange(len(GT_confirmed_post24))\n",
    "\n",
    "plt.scatter(GT_confirmed_post24[\"Day\"],GT_confirmed_post24[\"ln(confirmed)\"])"
   ]
  },
  {
   "cell_type": "markdown",
   "metadata": {},
   "source": [
    "##### Modelo lineal"
   ]
  },
  {
   "cell_type": "code",
   "execution_count": 11,
   "metadata": {},
   "outputs": [],
   "source": [
    "def ModeloLineal(x, y, EPOCHS, mostrar_modelo_cada, learning_rate):\n",
    "    tf.reset_default_graph()\n",
    "    \n",
    "    n = len(x)\n",
    "    y = np.array([y]).T\n",
    "    x = np.c_[x, np.ones((n,1))]\n",
    "    now = datetime.now()\n",
    "    \n",
    "    with tf.name_scope(\"definicion_parametros\"): \n",
    "        parametros = tf.get_variable(\"parametros\", dtype=tf.float32, shape=[2, 1], initializer=tf.ones_initializer())\n",
    "    \n",
    "    tensor_x = tf.placeholder(tf.float32,[n, 2],\"tensor_x\")\n",
    "    tensor_y = tf.placeholder(tf.float32,[n, 1],\"tensor_y\")\n",
    "\n",
    "    # hipotesis-modelo y = mx + b\n",
    "    with tf.name_scope(\"modelo\"):\n",
    "        prediccion = tf.matmul(tensor_x, parametros)\n",
    "    \n",
    "    with tf.name_scope(\"error\"):\n",
    "        error = 1/2 * tf.reduce_mean(tf.math.square(tensor_y - prediccion))\n",
    "        error_summary = tf.summary.scalar(\"error\", error)\n",
    "    \n",
    "    with tf.name_scope(\"gradiente\"):\n",
    "        gradiente = tf.gradients(error, [parametros])[0]\n",
    "        \n",
    "        \n",
    "    with tf.name_scope(\"actualizacion_parametros\"):\n",
    "        actualizacion_parametros = tf.assign(parametros, parametros - learning_rate * gradiente)\n",
    "        \n",
    "    init = tf.initialize_all_variables()\n",
    "    \n",
    "    # batch gradient descent\n",
    "    with tf.train.MonitoredSession() as session:\n",
    "        feed_dict = {tensor_x:x, tensor_y:y}\n",
    "        writer = tf.summary.FileWriter('./graphs/' + now.strftime(\"%d%m%Y_%H%M%S\") + \"_gradient_desc_lr=\" + str(learning_rate), session.graph)\n",
    "        session.run(init)\n",
    "        for i in range(EPOCHS + 1):\n",
    "            session.run(actualizacion_parametros,feed_dict=feed_dict)\n",
    "            error_val = session.run(error,feed_dict=feed_dict)\n",
    "            error_sum = session.run(error_summary,feed_dict=feed_dict)\n",
    "            writer.add_summary(error_sum, i)\n",
    "            session.run(gradiente, feed_dict=feed_dict)\n",
    "            if (i % mostrar_modelo_cada == 0):\n",
    "                print(\"Valores de m y b en iteración \", i, \":\")\n",
    "                print(session.run(parametros, feed_dict=feed_dict))\n",
    "                print(\"Error: \", error_val)\n",
    "                print(\"---------------------------------------------------------\")\n",
    "\n",
    "        writer.close()\n",
    "        final_parameters = session.run(parametros, feed_dict=feed_dict)\n",
    "        final_parameters = final_parameters.reshape(-1)\n",
    "    return(final_parameters)"
   ]
  },
  {
   "cell_type": "code",
   "execution_count": 13,
   "metadata": {},
   "outputs": [
    {
     "name": "stdout",
     "output_type": "stream",
     "text": [
      "INFO:tensorflow:Graph was finalized.\n",
      "INFO:tensorflow:Running local_init_op.\n",
      "INFO:tensorflow:Done running local_init_op.\n",
      "Valores de m y b en iteración  0 :\n",
      "[[0.3154664]\n",
      " [0.9828186]]\n",
      "Error:  18.822392\n",
      "---------------------------------------------------------\n",
      "Valores de m y b en iteración  5000 :\n",
      "[[0.10423192]\n",
      " [2.2142851 ]]\n",
      "Error:  0.105444655\n",
      "---------------------------------------------------------\n",
      "Valores de m y b en iteración  10000 :\n",
      "[[0.09130353]\n",
      " [2.7183783 ]]\n",
      "Error:  0.027994558\n",
      "---------------------------------------------------------\n",
      "Valores de m y b en iteración  15000 :\n",
      "[[0.08603103]\n",
      " [2.9239593 ]]\n",
      "Error:  0.015113155\n",
      "---------------------------------------------------------\n",
      "Valores de m y b en iteración  20000 :\n",
      "[[0.0838808]\n",
      " [3.0077987]]\n",
      "Error:  0.012970772\n",
      "---------------------------------------------------------\n",
      "Valores de m y b en iteración  25000 :\n",
      "[[0.083004 ]\n",
      " [3.0419867]]\n",
      "Error:  0.012614486\n",
      "---------------------------------------------------------\n",
      "Valores de m y b en iteración  30000 :\n",
      "[[0.08264657]\n",
      " [3.055923  ]]\n",
      "Error:  0.012555222\n",
      "---------------------------------------------------------\n",
      "Valores de m y b en iteración  35000 :\n",
      "[[0.08250137]\n",
      " [3.0615847 ]]\n",
      "Error:  0.012545382\n",
      "---------------------------------------------------------\n",
      "Valores de m y b en iteración  40000 :\n",
      "[[0.08244298]\n",
      " [3.0638611 ]]\n",
      "Error:  0.012543734\n",
      "---------------------------------------------------------\n",
      "Valores de m y b en iteración  45000 :\n",
      "[[0.08241703]\n",
      " [3.064873  ]]\n",
      "Error:  0.012543431\n",
      "---------------------------------------------------------\n",
      "Valores de m y b en iteración  50000 :\n",
      "[[0.08241703]\n",
      " [3.064873  ]]\n",
      "Error:  0.012543431\n",
      "---------------------------------------------------------\n"
     ]
    },
    {
     "data": {
      "text/plain": [
       "array([0.08241703, 3.064873  ], dtype=float32)"
      ]
     },
     "execution_count": 13,
     "metadata": {},
     "output_type": "execute_result"
    }
   ],
   "source": [
    "\n",
    "parametros = ModeloLineal(GT_confirmed_post24[\"Day\"], GT_confirmed_post24[\"ln(confirmed)\"], 50000, 5000, 0.0007)\n",
    "parametros\n",
    "\n"
   ]
  },
  {
   "cell_type": "markdown",
   "metadata": {},
   "source": [
    "##### Predicción\n",
    "Para calcular la predicción de casos para el 6 de junio, se utiliza como referencia, el número **76**, que corresponde al número de día empezando desde el 22 de abril."
   ]
  },
  {
   "cell_type": "code",
   "execution_count": 14,
   "metadata": {},
   "outputs": [
    {
     "data": {
      "text/plain": [
       "11254.997539030392"
      ]
     },
     "execution_count": 14,
     "metadata": {},
     "output_type": "execute_result"
    }
   ],
   "source": [
    "dia = 76\n",
    "prediccion_ln = parametros[0] * dia + parametros[1]\n",
    "prediccion = np.exp(prediccion_ln)\n",
    "prediccion"
   ]
  },
  {
   "cell_type": "markdown",
   "metadata": {},
   "source": [
    "##### Conclusión\n",
    "\n",
    "Si el comportamiento del COVID-19 en Guatemala continúa su crecimiento exponencial en los próximos días, se espera que para el 6 de junio hayan aproximadamente **11,254 casos**."
   ]
  },
  {
   "cell_type": "markdown",
   "metadata": {},
   "source": [
    "## Parte 2 - Modelo polinomial de calidad de vinos"
   ]
  },
  {
   "cell_type": "markdown",
   "metadata": {},
   "source": [
    "Es permitido utilizar [sklearn.preprocessing.polynomialfeatures](https://scikit-learn.org/stable/modules/generated/sklearn.preprocessing.PolynomialFeatures.html)\n",
    "\n",
    "\n",
    "#### Instrucciones\n",
    "\n",
    "1. Seleccionar y transformar(generando las combinaciones polinomiales para un polinomio de grado dos o tres a elección) las features que considere que son las mejores para predecir la calidad del vino, utilizar como minimo 2 features. Para seleccionar las features, hacer un analisis exploratorio por ejemplo(pero no limitado a ):  graficando y viendo la forma en que se comportan los datos.\n",
    "\n",
    " Por ejemplo, se tienen las features \"a\" y \"b\" y seleccionamos polinomio de grado 2, hacemos feature engineering para obtener :\n",
    " \n",
    " $[a,b,a^{2},b^{2},ab]$\n",
    " \n",
    " No olvidar el \"bias\" (parámetro multiplicado por 1) ,con lo cual el dataset puede quedar con las columnas:\n",
    " \n",
    " $[1,a,b,a^{2},b^{2},ab]$\n",
    "2. Una vez transformada la data aplicar regresion lineal con las features polinomiales usando Tensorflow.\n",
    "\n",
    "Requisitos adicionales:\n",
    "* Se debe agregar al notebook un screenshot del grafo de tensorboard, simplificando(usando  names , y name_scope como visto en clase).\n",
    "\n",
    "* Se debe generar un directorio de logs de tensorboard para cada corrida/experimento , con cada directorio identificando facilmente la configuración del experimento como visto en clase, por ejemplo para un experimento con learning rate = 0.1 , y polinomio grado 2  crear un directorio: lr=0.1_polinomio_grado=2. (Agregar al notebook un screenshot de estas gráficas)\n",
    "\n",
    "* Concluir en markdown cual es el mejor modelo para este caso basado en la comparativa entre curvas de costo/error en tensorboard."
   ]
  },
  {
   "cell_type": "code",
   "execution_count": 49,
   "metadata": {},
   "outputs": [],
   "source": [
    "data = pd.read_csv('winequality-red.csv')"
   ]
  },
  {
   "cell_type": "markdown",
   "metadata": {},
   "source": [
    "### Red Wine Quality Data\n",
    "\n",
    "Se aplicará regresión para crear un modelo de la calidad de vino en función de características del mismo, siendo 1 el peor vino y 10 el mejor.\n",
    "\n",
    "Variables de entrada:\n",
    "1. fixed acidity \n",
    "2. volatile acidity \n",
    "3. citric acid \n",
    "4. residual sugar \n",
    "5. chlorides \n",
    "6. free sulfur dioxide \n",
    "7. total sulfur dioxide \n",
    "8. density \n",
    "9. pH \n",
    "10. sulphates \n",
    "11. alcohol \n",
    "\n",
    "Varaible a predecir: \n",
    "12. quality (puntuacion  entre 0 y 10) \n",
    "\n"
   ]
  },
  {
   "cell_type": "code",
   "execution_count": 50,
   "metadata": {},
   "outputs": [
    {
     "data": {
      "text/html": [
       "<div>\n",
       "<style scoped>\n",
       "    .dataframe tbody tr th:only-of-type {\n",
       "        vertical-align: middle;\n",
       "    }\n",
       "\n",
       "    .dataframe tbody tr th {\n",
       "        vertical-align: top;\n",
       "    }\n",
       "\n",
       "    .dataframe thead th {\n",
       "        text-align: right;\n",
       "    }\n",
       "</style>\n",
       "<table border=\"1\" class=\"dataframe\">\n",
       "  <thead>\n",
       "    <tr style=\"text-align: right;\">\n",
       "      <th></th>\n",
       "      <th>fixed acidity</th>\n",
       "      <th>volatile acidity</th>\n",
       "      <th>citric acid</th>\n",
       "      <th>residual sugar</th>\n",
       "      <th>chlorides</th>\n",
       "      <th>free sulfur dioxide</th>\n",
       "      <th>total sulfur dioxide</th>\n",
       "      <th>density</th>\n",
       "      <th>pH</th>\n",
       "      <th>sulphates</th>\n",
       "      <th>alcohol</th>\n",
       "      <th>quality</th>\n",
       "    </tr>\n",
       "  </thead>\n",
       "  <tbody>\n",
       "    <tr>\n",
       "      <td>0</td>\n",
       "      <td>7.4</td>\n",
       "      <td>0.70</td>\n",
       "      <td>0.00</td>\n",
       "      <td>1.9</td>\n",
       "      <td>0.076</td>\n",
       "      <td>11.0</td>\n",
       "      <td>34.0</td>\n",
       "      <td>0.9978</td>\n",
       "      <td>3.51</td>\n",
       "      <td>0.56</td>\n",
       "      <td>9.4</td>\n",
       "      <td>5</td>\n",
       "    </tr>\n",
       "    <tr>\n",
       "      <td>1</td>\n",
       "      <td>7.8</td>\n",
       "      <td>0.88</td>\n",
       "      <td>0.00</td>\n",
       "      <td>2.6</td>\n",
       "      <td>0.098</td>\n",
       "      <td>25.0</td>\n",
       "      <td>67.0</td>\n",
       "      <td>0.9968</td>\n",
       "      <td>3.20</td>\n",
       "      <td>0.68</td>\n",
       "      <td>9.8</td>\n",
       "      <td>5</td>\n",
       "    </tr>\n",
       "    <tr>\n",
       "      <td>2</td>\n",
       "      <td>7.8</td>\n",
       "      <td>0.76</td>\n",
       "      <td>0.04</td>\n",
       "      <td>2.3</td>\n",
       "      <td>0.092</td>\n",
       "      <td>15.0</td>\n",
       "      <td>54.0</td>\n",
       "      <td>0.9970</td>\n",
       "      <td>3.26</td>\n",
       "      <td>0.65</td>\n",
       "      <td>9.8</td>\n",
       "      <td>5</td>\n",
       "    </tr>\n",
       "    <tr>\n",
       "      <td>3</td>\n",
       "      <td>11.2</td>\n",
       "      <td>0.28</td>\n",
       "      <td>0.56</td>\n",
       "      <td>1.9</td>\n",
       "      <td>0.075</td>\n",
       "      <td>17.0</td>\n",
       "      <td>60.0</td>\n",
       "      <td>0.9980</td>\n",
       "      <td>3.16</td>\n",
       "      <td>0.58</td>\n",
       "      <td>9.8</td>\n",
       "      <td>6</td>\n",
       "    </tr>\n",
       "    <tr>\n",
       "      <td>4</td>\n",
       "      <td>7.4</td>\n",
       "      <td>0.70</td>\n",
       "      <td>0.00</td>\n",
       "      <td>1.9</td>\n",
       "      <td>0.076</td>\n",
       "      <td>11.0</td>\n",
       "      <td>34.0</td>\n",
       "      <td>0.9978</td>\n",
       "      <td>3.51</td>\n",
       "      <td>0.56</td>\n",
       "      <td>9.4</td>\n",
       "      <td>5</td>\n",
       "    </tr>\n",
       "  </tbody>\n",
       "</table>\n",
       "</div>"
      ],
      "text/plain": [
       "   fixed acidity  volatile acidity  citric acid  residual sugar  chlorides  \\\n",
       "0            7.4              0.70         0.00             1.9      0.076   \n",
       "1            7.8              0.88         0.00             2.6      0.098   \n",
       "2            7.8              0.76         0.04             2.3      0.092   \n",
       "3           11.2              0.28         0.56             1.9      0.075   \n",
       "4            7.4              0.70         0.00             1.9      0.076   \n",
       "\n",
       "   free sulfur dioxide  total sulfur dioxide  density    pH  sulphates  \\\n",
       "0                 11.0                  34.0   0.9978  3.51       0.56   \n",
       "1                 25.0                  67.0   0.9968  3.20       0.68   \n",
       "2                 15.0                  54.0   0.9970  3.26       0.65   \n",
       "3                 17.0                  60.0   0.9980  3.16       0.58   \n",
       "4                 11.0                  34.0   0.9978  3.51       0.56   \n",
       "\n",
       "   alcohol  quality  \n",
       "0      9.4        5  \n",
       "1      9.8        5  \n",
       "2      9.8        5  \n",
       "3      9.8        6  \n",
       "4      9.4        5  "
      ]
     },
     "execution_count": 50,
     "metadata": {},
     "output_type": "execute_result"
    }
   ],
   "source": [
    "data.head()"
   ]
  },
  {
   "cell_type": "code",
   "execution_count": 51,
   "metadata": {
    "jupyter": {
     "outputs_hidden": true
    }
   },
   "outputs": [],
   "source": [
    "dt = data.values\n",
    "dt = dt.astype('float32')\n",
    "\n",
    "#Datos de entrenamiento - 80%\n",
    "trainingData = dt[0 : int(len(dt) * 0.80), ]\n",
    "\n",
    "#Datos de prueba - 20%\n",
    "testData = dt[int(len(dt) * 0.20): , ]\n",
    "\n",
    "x1 = trainingData[:,0]\n",
    "x2 = trainingData[:,1]\n",
    "x3 = trainingData[:,2]\n",
    "x4 = trainingData[:,3]\n",
    "x5 = trainingData[:,4]\n",
    "x6 = trainingData[:,5]\n",
    "x7 = trainingData[:,6]\n",
    "x8 = trainingData[:,7]\n",
    "x9 = trainingData[:,8]\n",
    "x10 = trainingData[:,9]\n",
    "x11 = trainingData[:,10]\n",
    "y = trainingData[:,11]\n",
    "\n",
    "corrcoef_x1_y = round(np.corrcoef(x1,y)[0, 1], 5)\n",
    "corrcoef_x2_y = round(np.corrcoef(x2,y)[0, 1], 5)\n",
    "corrcoef_x3_y = round(np.corrcoef(x3,y)[0, 1], 5)\n",
    "corrcoef_x4_y = round(np.corrcoef(x4,y)[0, 1], 5)\n",
    "corrcoef_x5_y = round(np.corrcoef(x5,y)[0, 1], 5)\n",
    "corrcoef_x6_y = round(np.corrcoef(x6,y)[0, 1], 5)\n",
    "corrcoef_x7_y = round(np.corrcoef(x7,y)[0, 1], 5)\n",
    "corrcoef_x8_y = round(np.corrcoef(x8,y)[0, 1], 5)\n",
    "corrcoef_x9_y = round(np.corrcoef(x9,y)[0, 1], 5)\n",
    "corrcoef_x10_y = round(np.corrcoef(x10,y)[0, 1], 5)\n",
    "corrcoef_x11_y = round(np.corrcoef(x11,y)[0, 1], 5)"
   ]
  },
  {
   "cell_type": "code",
   "execution_count": 52,
   "metadata": {},
   "outputs": [
    {
     "data": {
      "image/png": "[encoded data removed]",
      "text/plain": [
       "<Figure size 432x288 with 1 Axes>"
      ]
     },
     "metadata": {
      "needs_background": "light"
     },
     "output_type": "display_data"
    }
   ],
   "source": [
    "plt.scatter(x1, y)\n",
    "plt.title('Corr=' + str(corrcoef_x1_y))\n",
    "plt.xlabel('Fixed Acidity')\n",
    "plt.ylabel('Quality')\n",
    "plt.show()"
   ]
  },
  {
   "cell_type": "code",
   "execution_count": 32,
   "metadata": {},
   "outputs": [
    {
     "data": {
      "image/png": "[encoded data removed]",
      "text/plain": [
       "<Figure size 432x288 with 1 Axes>"
      ]
     },
     "metadata": {
      "needs_background": "light"
     },
     "output_type": "display_data"
    }
   ],
   "source": [
    "plt.scatter(x2, y)\n",
    "plt.title('Corr=' + str(corrcoef_x2_y))\n",
    "plt.xlabel('Volatile Acidity')\n",
    "plt.ylabel('Quality')\n",
    "plt.show()"
   ]
  },
  {
   "cell_type": "code",
   "execution_count": 33,
   "metadata": {},
   "outputs": [
    {
     "data": {
      "image/png": "[encoded data removed]",
      "text/plain": [
       "<Figure size 432x288 with 1 Axes>"
      ]
     },
     "metadata": {
      "needs_background": "light"
     },
     "output_type": "display_data"
    }
   ],
   "source": [
    "plt.scatter(x3, y)\n",
    "plt.title('Corr=' + str(corrcoef_x3_y))\n",
    "plt.xlabel('Citric Acid')\n",
    "plt.ylabel('Quality')\n",
    "plt.show()"
   ]
  },
  {
   "cell_type": "code",
   "execution_count": 34,
   "metadata": {},
   "outputs": [
    {
     "data": {
      "image/png": "[encoded data removed]",
      "text/plain": [
       "<Figure size 432x288 with 1 Axes>"
      ]
     },
     "metadata": {
      "needs_background": "light"
     },
     "output_type": "display_data"
    }
   ],
   "source": [
    "plt.scatter(x4, y)\n",
    "plt.title('Corr=' + str(corrcoef_x4_y))\n",
    "plt.xlabel('Residual Sugar')\n",
    "plt.ylabel('Quality')\n",
    "plt.show()"
   ]
  },
  {
   "cell_type": "code",
   "execution_count": 35,
   "metadata": {},
   "outputs": [
    {
     "data": {
      "image/png": "[encoded data removed]",
      "text/plain": [
       "<Figure size 432x288 with 1 Axes>"
      ]
     },
     "metadata": {
      "needs_background": "light"
     },
     "output_type": "display_data"
    }
   ],
   "source": [
    "plt.scatter(x5, y)\n",
    "plt.title('Corr=' + str(corrcoef_x5_y))\n",
    "plt.xlabel('Chlorides')\n",
    "plt.ylabel('Quality')\n",
    "plt.show()"
   ]
  },
  {
   "cell_type": "code",
   "execution_count": 36,
   "metadata": {},
   "outputs": [
    {
     "data": {
      "image/png": "[encoded data removed]",
      "text/plain": [
       "<Figure size 432x288 with 1 Axes>"
      ]
     },
     "metadata": {
      "needs_background": "light"
     },
     "output_type": "display_data"
    }
   ],
   "source": [
    "plt.scatter(x6, y)\n",
    "plt.title('Corr=' + str(corrcoef_x6_y))\n",
    "plt.xlabel('Free Sulfure Dioxide')\n",
    "plt.ylabel('Quality')\n",
    "plt.show()"
   ]
  },
  {
   "cell_type": "code",
   "execution_count": 37,
   "metadata": {},
   "outputs": [
    {
     "data": {
      "image/png": "[encoded data removed]",
      "text/plain": [
       "<Figure size 432x288 with 1 Axes>"
      ]
     },
     "metadata": {
      "needs_background": "light"
     },
     "output_type": "display_data"
    }
   ],
   "source": [
    "plt.scatter(x7, y)\n",
    "plt.title('Corr=' + str(corrcoef_x7_y))\n",
    "plt.xlabel('Total Sulfure Dioxide')\n",
    "plt.ylabel('Quality')\n",
    "plt.show()"
   ]
  },
  {
   "cell_type": "code",
   "execution_count": 38,
   "metadata": {},
   "outputs": [
    {
     "data": {
      "image/png": "[encoded data removed]",
      "text/plain": [
       "<Figure size 432x288 with 1 Axes>"
      ]
     },
     "metadata": {
      "needs_background": "light"
     },
     "output_type": "display_data"
    }
   ],
   "source": [
    "plt.scatter(x8, y)\n",
    "plt.title('Corr=' + str(corrcoef_x7_y))\n",
    "plt.xlabel('Density')\n",
    "plt.ylabel('Quality')\n",
    "plt.show()"
   ]
  },
  {
   "cell_type": "code",
   "execution_count": 39,
   "metadata": {},
   "outputs": [
    {
     "data": {
      "image/png": "[encoded data removed]",
      "text/plain": [
       "<Figure size 432x288 with 1 Axes>"
      ]
     },
     "metadata": {
      "needs_background": "light"
     },
     "output_type": "display_data"
    }
   ],
   "source": [
    "plt.scatter(x9, y)\n",
    "plt.title('Corr=' + str(corrcoef_x9_y))\n",
    "plt.xlabel('pH')\n",
    "plt.ylabel('Quality')\n",
    "plt.show()"
   ]
  },
  {
   "cell_type": "code",
   "execution_count": 40,
   "metadata": {},
   "outputs": [
    {
     "data": {
      "image/png": "[encoded data removed]",
      "text/plain": [
       "<Figure size 432x288 with 1 Axes>"
      ]
     },
     "metadata": {
      "needs_background": "light"
     },
     "output_type": "display_data"
    }
   ],
   "source": [
    "plt.scatter(x10, y)\n",
    "plt.title('Corr=' + str(corrcoef_x10_y))\n",
    "plt.xlabel('Sulphates')\n",
    "plt.ylabel('Quality')\n",
    "plt.show()"
   ]
  },
  {
   "cell_type": "code",
   "execution_count": 41,
   "metadata": {},
   "outputs": [
    {
     "data": {
      "image/png": "[encoded data removed]",
      "text/plain": [
       "<Figure size 432x288 with 1 Axes>"
      ]
     },
     "metadata": {
      "needs_background": "light"
     },
     "output_type": "display_data"
    }
   ],
   "source": [
    "plt.scatter(x11, y)\n",
    "plt.title('Corr=' + str(corrcoef_x11_y))\n",
    "plt.xlabel('Alcohol')\n",
    "plt.ylabel('Quality')\n",
    "plt.show()"
   ]
  },
  {
   "cell_type": "markdown",
   "metadata": {},
   "source": [
    "#### Selección de variables\n",
    "\n",
    "Se seleccionan las variables **alcohol** (x11) y **volatile acidity** (x2) las cuales presentan un mayor nivel de correlación con respecto a la variable **quality** (y).\n"
   ]
  },
  {
   "cell_type": "markdown",
   "metadata": {},
   "source": [
    "#### Función de egresión lineal"
   ]
  },
  {
   "cell_type": "code",
   "execution_count": 104,
   "metadata": {},
   "outputs": [],
   "source": [
    "def LinearModel(x, y, grade, EPOCHS, show_each, learning_rate):\n",
    "    tf.reset_default_graph()\n",
    "    n = len(y)\n",
    "    poly = PolynomialFeatures(grade)\n",
    "    x = poly.fit_transform(x)\n",
    "    m = len(x[0])\n",
    "    print(x.shape)\n",
    "    y = np.array([y]).T\n",
    "    print(y.shape)\n",
    "    \n",
    "    now = datetime.now()\n",
    "    \n",
    "    theta = tf.get_variable(\"theta\", dtype=tf.float32, shape=[m, 1], initializer=tf.ones_initializer())\n",
    "    \n",
    "    tensor_x = tf.placeholder(tf.float32,[n, m],\"tensor_x\")\n",
    "    tensor_y = tf.placeholder(tf.float32,[n, 1],\"tensor_y\")\n",
    "    \n",
    "    with tf.name_scope(\"prediction\"):\n",
    "        prediction = tf.matmul(tensor_x, theta)\n",
    "    \n",
    "    with tf.name_scope(\"error\"):\n",
    "        error = 1/(2 * m) * tf.reduce_mean(tf.math.square(prediction - tensor_y))\n",
    "        error_summary = tf.summary.scalar(\"error\", error)\n",
    "    \n",
    "    with tf.name_scope(\"gradient\"):\n",
    "        gradient = tf.gradients(error, [theta])[0]\n",
    "        \n",
    "    with tf.name_scope(\"theta_update\"):\n",
    "        theta_update = tf.assign(theta, theta - learning_rate * gradient)\n",
    "        \n",
    "    init = tf.global_variables_initializer()\n",
    "    \n",
    "    with tf.train.MonitoredSession() as session:\n",
    "        session.run(init)\n",
    "        feed_dict = {tensor_x:x, tensor_y:y}\n",
    "        writer = tf.summary.FileWriter('./graphs/' + now.strftime(\"%d%m%Y_%H%M%S\") + \n",
    "                                       \"_lr=\" + str(learning_rate) +\n",
    "                                       \"_polynomial_grade=\" + str(grade), session.graph)\n",
    "        \n",
    "        \n",
    "        for i in range(EPOCHS + 1):\n",
    "            session.run(theta_update,feed_dict=feed_dict)\n",
    "            error_val = session.run(error,feed_dict=feed_dict)\n",
    "            error_sum = session.run(error_summary,feed_dict=feed_dict)\n",
    "            writer.add_summary(error_sum, i)\n",
    "            session.run(gradient, feed_dict=feed_dict)\n",
    "            if (i % show_each == 0):\n",
    "                print(\"Theta values on iteration\", i, \":\")\n",
    "                print(session.run(theta, feed_dict=feed_dict))\n",
    "                print(\"Error: \", error_val)\n",
    "                print(\"---------------------------------------------------------\")\n",
    "\n",
    "\n",
    "        writer.close()"
   ]
  },
  {
   "cell_type": "code",
   "execution_count": 105,
   "metadata": {},
   "outputs": [
    {
     "name": "stdout",
     "output_type": "stream",
     "text": [
      "(1279, 6)\n",
      "(1279, 1)\n",
      "INFO:tensorflow:Graph was finalized.\n",
      "INFO:tensorflow:Running local_init_op.\n",
      "INFO:tensorflow:Done running local_init_op.\n",
      "Theta values on iteration 0 :\n",
      "[[0.9979789 ]\n",
      " [0.9785319 ]\n",
      " [0.9989591 ]\n",
      " [0.76915324]\n",
      " [0.9890403 ]\n",
      " [0.99939805]]\n",
      "Error:  794.81635\n",
      "---------------------------------------------------------\n",
      "Theta values on iteration 5000 :\n",
      "[[ 0.9670038 ]\n",
      " [ 0.7731475 ]\n",
      " [ 0.95096767]\n",
      " [-0.06230888]\n",
      " [ 0.54394895]\n",
      " [ 0.9533878 ]]\n",
      "Error:  0.33953986\n",
      "---------------------------------------------------------\n",
      "Theta values on iteration 10000 :\n",
      "[[ 0.95178324]\n",
      " [ 0.69191206]\n",
      " [ 0.9214936 ]\n",
      " [-0.04167694]\n",
      " [ 0.27298608]\n",
      " [ 0.92393696]]\n",
      "Error:  0.17248848\n",
      "---------------------------------------------------------\n",
      "Theta values on iteration 15000 :\n",
      "[[ 0.94202214]\n",
      " [ 0.6399011 ]\n",
      " [ 0.90181214]\n",
      " [-0.0280736 ]\n",
      " [ 0.09126775]\n",
      " [ 0.90407825]]\n",
      "Error:  0.09791895\n",
      "---------------------------------------------------------\n",
      "Theta values on iteration 20000 :\n",
      "[[ 0.9358734 ]\n",
      " [ 0.6072348 ]\n",
      " [ 0.88867   ]\n",
      " [-0.01915056]\n",
      " [-0.03079339]\n",
      " [ 0.8906354 ]]\n",
      "Error:  0.0646026\n",
      "---------------------------------------------------------\n",
      "Theta values on iteration 25000 :\n",
      "[[ 0.9321043 ]\n",
      " [ 0.58732677]\n",
      " [ 0.8798916 ]\n",
      " [-0.01334052]\n",
      " [-0.1129601 ]\n",
      " [ 0.8814816 ]]\n",
      "Error:  0.04969222\n",
      "---------------------------------------------------------\n",
      "Theta values on iteration 30000 :\n",
      "[[ 0.929899  ]\n",
      " [ 0.5757921 ]\n",
      " [ 0.8740259 ]\n",
      " [-0.00959788]\n",
      " [-0.16843392]\n",
      " [ 0.87519884]]\n",
      "Error:  0.042997934\n",
      "---------------------------------------------------------\n",
      "Theta values on iteration 35000 :\n",
      "[[ 0.92872036]\n",
      " [ 0.5697123 ]\n",
      " [ 0.8701006 ]\n",
      " [-0.00722529]\n",
      " [-0.20603484]\n",
      " [ 0.8708476 ]]\n",
      "Error:  0.039974313\n",
      "---------------------------------------------------------\n",
      "Theta values on iteration 40000 :\n",
      "[[ 0.92820454]\n",
      " [ 0.5671529 ]\n",
      " [ 0.86747724]\n",
      " [-0.00575806]\n",
      " [-0.23165663]\n",
      " [ 0.86777914]]\n",
      "Error:  0.03859329\n",
      "---------------------------------------------------------\n",
      "Theta values on iteration 45000 :\n",
      "[[ 0.9280984 ]\n",
      " [ 0.56682414]\n",
      " [ 0.8657157 ]\n",
      " [-0.00488592]\n",
      " [-0.24923842]\n",
      " [ 0.8655881 ]]\n",
      "Error:  0.03794962\n",
      "---------------------------------------------------------\n",
      "Theta values on iteration 50000 :\n",
      "[[ 0.92825884]\n",
      " [ 0.567888  ]\n",
      " [ 0.8645288 ]\n",
      " [-0.00440387]\n",
      " [-0.26141343]\n",
      " [ 0.8639717 ]]\n",
      "Error:  0.037638843\n",
      "---------------------------------------------------------\n"
     ]
    }
   ],
   "source": [
    "a = x11\n",
    "b = x2\n",
    "x = np.c_[a, b]\n",
    "\n",
    "LinearModel(x, y, 2, 50000, 5000, 0.0001)\n"
   ]
  },
  {
   "cell_type": "markdown",
   "metadata": {},
   "source": [
    "#### Conclusión\n",
    "\n",
    "El mejor modelo para determinar la calidad del vino **y** con respecto al nivel de alcohol **a** y la acidez voátil **b** es el siguiente:\n",
    "\n",
    "$y = 0.928259 + 0.567888a + 0.864529b - 0.00403a^{2} - 0.261413b^{2} + 0.863972ab$ \n",
    "\n",
    "#### Grafo\n",
    "\n",
    "<img src=\"./images/graph.png\"></img>\n",
    "\n",
    "#### Escalar\n",
    "\n",
    "<img src=\"./images/scalar.png\"></img>\n"
   ]
  }
 ],
 "metadata": {
  "kernelspec": {
   "display_name": "Python 3",
   "language": "python",
   "name": "python3"
  },
  "language_info": {
   "codemirror_mode": {
    "name": "ipython",
    "version": 3
   },
   "file_extension": ".py",
   "mimetype": "text/x-python",
   "name": "python",
   "nbconvert_exporter": "python",
   "pygments_lexer": "ipython3",
   "version": "3.7.4"
  }
 },
 "nbformat": 4,
 "nbformat_minor": 4
}
